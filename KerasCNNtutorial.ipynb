{
 "cells": [
  {
   "cell_type": "code",
   "execution_count": 1,
   "metadata": {},
   "outputs": [],
   "source": [
    "'''\n",
    "Student: Calvin Chu\n",
    "Super Friend Instructor: Ken Smith \n",
    "\n",
    "Concepts \n",
    "Machine Learning for beginner\n",
    "\n",
    "'''\n",
    "# Source: https://elitedatascience.com/keras-tutorial-deep-learning-in-python\n",
    "import numpy as np\n",
    "np.random.seed(123)#For reproducibility"
   ]
  },
  {
   "cell_type": "code",
   "execution_count": 2,
   "metadata": {},
   "outputs": [
    {
     "name": "stderr",
     "output_type": "stream",
     "text": [
      "Using TensorFlow backend.\n"
     ]
    }
   ],
   "source": [
    "# Linear stack of neural networks\n",
    "from keras.models import Sequential\n",
    "# Core layers used in almost any neural network\n",
    "from keras.layers import Dense, Dropout, Activation, Flatten\n",
    "# CNN layers\n",
    "from keras.layers import Convolution2D, MaxPooling2D\n",
    "# Utilities for data transformation\n",
    "from keras.utils import np_utils"
   ]
  },
  {
   "cell_type": "code",
   "execution_count": 3,
   "metadata": {},
   "outputs": [],
   "source": [
    "# Loading image data from MNIST\n",
    "from keras.datasets import mnist\n",
    "\n",
    "# Load pre-shuffled MNIST data into train and test sets\n",
    "(X_train,y_train),(X_test,y_test)=mnist.load_data()"
   ]
  },
  {
   "cell_type": "code",
   "execution_count": 4,
   "metadata": {},
   "outputs": [
    {
     "name": "stdout",
     "output_type": "stream",
     "text": [
      "(60000, 28, 28)\n"
     ]
    }
   ],
   "source": [
    "# Gives the shape of the data.\n",
    "# 60000 images, size 28x28\n",
    "print (X_train.shape)"
   ]
  },
  {
   "cell_type": "code",
   "execution_count": 5,
   "metadata": {
    "scrolled": false
   },
   "outputs": [
    {
     "data": {
      "text/plain": [
       "<matplotlib.image.AxesImage at 0x1f46d6c2588>"
      ]
     },
     "execution_count": 5,
     "metadata": {},
     "output_type": "execute_result"
    },
    {
     "data": {
      "image/png": "[encoded data removed]",
      "text/plain": [
       "<Figure size 432x288 with 1 Axes>"
      ]
     },
     "metadata": {
      "needs_background": "light"
     },
     "output_type": "display_data"
    }
   ],
   "source": [
    "%matplotlib inline\n",
    "from matplotlib import pyplot as plt\n",
    "plt.imshow(X_train[0])"
   ]
  },
  {
   "cell_type": "code",
   "execution_count": 6,
   "metadata": {},
   "outputs": [
    {
     "name": "stdout",
     "output_type": "stream",
     "text": [
      "(60000, 1, 28, 28)\n"
     ]
    }
   ],
   "source": [
    "# Adds depth to the dataset because theano backend needs it\n",
    "#(n, width, height) -> (n, depth, width, height)\n",
    "X_train = X_train.reshape(X_train.shape[0],1,28,28)\n",
    "X_test = X_test.reshape(X_test.shape[0],1,28,28)\n",
    "print (X_train.shape)"
   ]
  },
  {
   "cell_type": "code",
   "execution_count": 7,
   "metadata": {},
   "outputs": [],
   "source": [
    "# Converts datatype to float32 and normalizes data values to the range [0,1] because theano needs it\n",
    "X_train = X_train.astype('float32')\n",
    "X_test = X_test.astype('float32')\n",
    "X_train/=255\n",
    "X_test/=255"
   ]
  },
  {
   "cell_type": "code",
   "execution_count": 8,
   "metadata": {},
   "outputs": [
    {
     "name": "stdout",
     "output_type": "stream",
     "text": [
      "(60000,)\n",
      "[5 0 4 1 9 2 1 3 1 4]\n"
     ]
    }
   ],
   "source": [
    "#Shape of class label data\n",
    "print (y_train.shape)\n",
    "#First 10 values in y_train\n",
    "print (y_train[:10])"
   ]
  },
  {
   "cell_type": "code",
   "execution_count": 9,
   "metadata": {},
   "outputs": [
    {
     "name": "stdout",
     "output_type": "stream",
     "text": [
      "(60000, 10)\n"
     ]
    }
   ],
   "source": [
    "# Above is problem because y_train and y_test are supposed to be 10 distinct class labels, \n",
    "#instead of a single array of class values\n",
    "#Problem fixed by converting 1D class array to 10D class matrix\n",
    "Y_train = np_utils.to_categorical(y_train,10)\n",
    "Y_test=np_utils.to_categorical(y_test,10)\n",
    "\n",
    "print (Y_train.shape)"
   ]
  },
  {
   "cell_type": "code",
   "execution_count": 10,
   "metadata": {},
   "outputs": [
    {
     "name": "stdout",
     "output_type": "stream",
     "text": [
      "WARNING:tensorflow:From C:\\Anaconda\\envs\\tensorflow_env\\lib\\site-packages\\tensorflow\\python\\framework\\op_def_library.py:263: colocate_with (from tensorflow.python.framework.ops) is deprecated and will be removed in a future version.\n",
      "Instructions for updating:\n",
      "Colocations handled automatically by placer.\n",
      "WARNING:tensorflow:From C:\\Anaconda\\envs\\tensorflow_env\\lib\\site-packages\\keras\\backend\\tensorflow_backend.py:3445: calling dropout (from tensorflow.python.ops.nn_ops) with keep_prob is deprecated and will be removed in a future version.\n",
      "Instructions for updating:\n",
      "Please use `rate` instead of `keep_prob`. Rate should be set to `rate = 1 - keep_prob`.\n"
     ]
    },
    {
     "data": {
      "text/plain": [
       "'\\nNote:\\nActivation Function: Non-linear function applied by a neuron to introduce non-linear properties in the network\\nLoss Function: Method of evaluating how well your algorithm models your dataset\\n-Calculates the error rate\\n'"
      ]
     },
     "execution_count": 10,
     "metadata": {},
     "output_type": "execute_result"
    }
   ],
   "source": [
    "# Model Implementation\n",
    "model = Sequential()# Declare sequential model\n",
    "\n",
    "'''\n",
    "CNN input layer\n",
    "\n",
    "Convolution2D: \n",
    "Number of convolution filters to use (32), \n",
    "Number of rows in each convolution kernel(3),\n",
    "Number of columns in each convolution kernel(3)\n",
    "\n",
    "input_shape: Since our input is one 28x28 image, it's (1,28,28), (depth, width, height)\n",
    "\n",
    "subsample: Describes to step size\n",
    "not used in here, (1,1) by default.\n",
    "'''\n",
    "\n",
    "model.add(Convolution2D(32, (3, 3), activation='relu', input_shape=(1,28,28), data_format='channels_first'))\n",
    "\n",
    "# Add more layers\n",
    "model.add(Convolution2D(32,(3,3), activation='relu',data_format='channels_first'))\n",
    "\n",
    "#Sepparates the input image into a grid with each cell the size of 2x2\n",
    "#Gets the max input value for each grid, and creates a new image\n",
    "#Each cell of the new image contains the max input value from the previous grid\n",
    "#Makes the image simpler for easier processing, and avoids including small image details in the learning process\n",
    "model.add(MaxPooling2D(pool_size=(2,2)))\n",
    "\n",
    "#Randomly removes a certain percentage of neruons from the network with each iteration to prevent overfitting\n",
    "model.add(Dropout(rate=0.25))\n",
    "\n",
    "model.add(Flatten())\n",
    "model.add(Dense(128,activation='relu'))\n",
    "model.add(Dropout(rate=0.5))\n",
    "model.add(Dense(10,activation='softmax'))\n",
    "'''\n",
    "Note:\n",
    "Activation Function: Non-linear function applied by a neuron to introduce non-linear properties in the network\n",
    "Loss Function: Method of evaluating how well your algorithm models your dataset\n",
    "-Calculates the error rate\n",
    "'''"
   ]
  },
  {
   "cell_type": "code",
   "execution_count": 11,
   "metadata": {},
   "outputs": [],
   "source": [
    "#Compiles the model\n",
    "model.compile(loss='categorical_crossentropy',optimizer='adam',metrics=['accuracy'])"
   ]
  },
  {
   "cell_type": "code",
   "execution_count": 12,
   "metadata": {
    "scrolled": false
   },
   "outputs": [
    {
     "name": "stdout",
     "output_type": "stream",
     "text": [
      "WARNING:tensorflow:From C:\\Anaconda\\envs\\tensorflow_env\\lib\\site-packages\\tensorflow\\python\\ops\\math_ops.py:3066: to_int32 (from tensorflow.python.ops.math_ops) is deprecated and will be removed in a future version.\n",
      "Instructions for updating:\n",
      "Use tf.cast instead.\n",
      "Epoch 1/10\n",
      "60000/60000 [==============================] - 18s 303us/step - loss: 0.2180 - acc: 0.9337\n",
      "Epoch 2/10\n",
      "60000/60000 [==============================] - 13s 216us/step - loss: 0.0934 - acc: 0.9720\n",
      "Epoch 3/10\n",
      "60000/60000 [==============================] - 13s 217us/step - loss: 0.0732 - acc: 0.9782\n",
      "Epoch 4/10\n",
      "60000/60000 [==============================] - 13s 219us/step - loss: 0.0585 - acc: 0.9823\n",
      "Epoch 5/10\n",
      "60000/60000 [==============================] - 13s 219us/step - loss: 0.0500 - acc: 0.9847\n",
      "Epoch 6/10\n",
      "60000/60000 [==============================] - 13s 218us/step - loss: 0.0447 - acc: 0.9855\n",
      "Epoch 7/10\n",
      "60000/60000 [==============================] - 13s 214us/step - loss: 0.0399 - acc: 0.98720s - loss: 0.04\n",
      "Epoch 8/10\n",
      "60000/60000 [==============================] - 13s 215us/step - loss: 0.0361 - acc: 0.9884\n",
      "Epoch 9/10\n",
      "60000/60000 [==============================] - 13s 218us/step - loss: 0.0333 - acc: 0.98941s - loss:\n",
      "Epoch 10/10\n",
      "60000/60000 [==============================] - 13s 211us/step - loss: 0.0303 - acc: 0.98981s - loss: 0.0299 - acc: 0.98 - ETA: 1s - loss: 0.0\n"
     ]
    },
    {
     "data": {
      "text/plain": [
       "<keras.callbacks.History at 0x1f496ab6278>"
      ]
     },
     "execution_count": 12,
     "metadata": {},
     "output_type": "execute_result"
    }
   ],
   "source": [
    "#Fit model on training data\n",
    "model.fit(X_train, Y_train, batch_size=32, epochs=10, verbose=1)"
   ]
  },
  {
   "cell_type": "code",
   "execution_count": 13,
   "metadata": {},
   "outputs": [
    {
     "name": "stdout",
     "output_type": "stream",
     "text": [
      "[0.029604335062149992, 0.9919]\n"
     ]
    }
   ],
   "source": [
    "#Evaluate model on test data\n",
    "score=model.evaluate(X_test, Y_test, verbose=0)\n",
    "print(score)"
   ]
  },
  {
   "cell_type": "code",
   "execution_count": null,
   "metadata": {},
   "outputs": [],
   "source": []
  }
 ],
 "metadata": {
  "kernelspec": {
   "display_name": "Python 3",
   "language": "python",
   "name": "python3"
  },
  "language_info": {
   "codemirror_mode": {
    "name": "ipython",
    "version": 3
   },
   "file_extension": ".py",
   "mimetype": "text/x-python",
   "name": "python",
   "nbconvert_exporter": "python",
   "pygments_lexer": "ipython3",
   "version": "3.7.3"
  }
 },
 "nbformat": 4,
 "nbformat_minor": 2
}
